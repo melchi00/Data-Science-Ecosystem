{
 "cells": [
  {
   "cell_type": "markdown",
   "id": "e153001a-05ac-44aa-86c5-edd75b6fb4e1",
   "metadata": {},
   "source": [
    "# Data Science Tools and Ecosystem"
   ]
  },
  {
   "cell_type": "markdown",
   "id": "5bb67f18-5e49-4b3b-9db7-da1ed384c0bb",
   "metadata": {},
   "source": [
    "In this notebook, Data Science Tools and Ecosystem are summarized."
   ]
  },
  {
   "cell_type": "markdown",
   "id": "76ffc30d-6e7a-4b45-a277-45340e2f9ca0",
   "metadata": {},
   "source": [
    "Some of the popular languages that data scientists use are:\n",
    "1. Pyhton\n",
    "2. R\n",
    "3. SQL"
   ]
  },
  {
   "cell_type": "markdown",
   "id": "e85cefec-c119-4831-b2cf-64a12d2e7bbf",
   "metadata": {},
   "source": [
    "Some of the commonly used libraries used by data scientists include:\n",
    "1. ggplot2\n",
    "2. Apache spark\n",
    "3. Numpy"
   ]
  },
  {
   "cell_type": "markdown",
   "id": "aa107f5d-8322-4d83-bf49-24ae72827340",
   "metadata": {},
   "source": [
    "| Data Science Tools      |\n",
    "|-------------------------|\n",
    "| Jupyter Notebook         |\n",
    "| RStudio                  |\n",
    "| Apache Zeppelin          |\n"
   ]
  },
  {
   "cell_type": "markdown",
   "id": "7884ff5b-b276-4b58-ad14-5fc08ab50781",
   "metadata": {},
   "source": [
    "### Below are a few examples of evaluating arithmetic expressions in python"
   ]
  },
  {
   "cell_type": "markdown",
   "id": "7128e8da-d4ef-4ee9-a0b2-8a9d67004bfc",
   "metadata": {},
   "source": [
    "17\n"
   ]
  },
  {
   "cell_type": "markdown",
   "id": "3c096d44-e49c-4283-ad35-c6fe3c6e4d13",
   "metadata": {},
   "source": [
    "3.33 hours"
   ]
  },
  {
   "cell_type": "markdown",
   "id": "728f6a5b-d750-42f7-8c57-bd85d81f4af8",
   "metadata": {},
   "source": [
    "** Objectives:**\n",
    "\n",
    "- Python\n",
    "- R\n",
    "- Scala\n",
    "- Java"
   ]
  },
  {
   "cell_type": "markdown",
   "id": "bb1297e3-7ac5-47aa-9169-4c9f29f22e80",
   "metadata": {},
   "source": [
    "## Author\n",
    "Melchizedek Meeli Koitelel"
   ]
  },
  {
   "cell_type": "code",
   "execution_count": null,
   "id": "5d85b349-9cc9-4249-890e-4944f2665f95",
   "metadata": {},
   "outputs": [],
   "source": []
  }
 ],
 "metadata": {
  "kernelspec": {
   "display_name": "Python 3 (ipykernel)",
   "language": "python",
   "name": "python3"
  },
  "language_info": {
   "codemirror_mode": {
    "name": "ipython",
    "version": 3
   },
   "file_extension": ".py",
   "mimetype": "text/x-python",
   "name": "python",
   "nbconvert_exporter": "python",
   "pygments_lexer": "ipython3",
   "version": "3.12.9"
  }
 },
 "nbformat": 4,
 "nbformat_minor": 5
}
